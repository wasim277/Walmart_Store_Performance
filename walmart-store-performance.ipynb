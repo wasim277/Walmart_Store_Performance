{
 "cells": [
  {
   "cell_type": "markdown",
   "id": "57797a14",
   "metadata": {},
   "source": [
    "*Walmart Store Analysis*"
   ]
  },
  {
   "cell_type": "code",
   "execution_count": 4,
   "id": "2c438f0b",
   "metadata": {
    "execution": {
     "iopub.execute_input": "2024-08-13T04:01:54.790208Z",
     "iopub.status.busy": "2024-08-13T04:01:54.789811Z",
     "iopub.status.idle": "2024-08-13T04:01:57.118038Z",
     "shell.execute_reply": "2024-08-13T04:01:57.116887Z"
    },
    "papermill": {
     "duration": 2.34359,
     "end_time": "2024-08-13T04:01:57.121019",
     "exception": false,
     "start_time": "2024-08-13T04:01:54.777429",
     "status": "completed"
    },
    "tags": []
   },
   "outputs": [],
   "source": [
    "import pandas as pd\n",
    "import numpy as np\n",
    "import matplotlib.pyplot as plt\n",
    "import seaborn as sns"
   ]
  },
  {
   "cell_type": "code",
   "execution_count": 5,
   "id": "fd71acfc",
   "metadata": {
    "execution": {
     "iopub.execute_input": "2024-08-13T04:01:57.143816Z",
     "iopub.status.busy": "2024-08-13T04:01:57.143256Z",
     "iopub.status.idle": "2024-08-13T04:01:57.187680Z",
     "shell.execute_reply": "2024-08-13T04:01:57.186726Z"
    },
    "papermill": {
     "duration": 0.058602,
     "end_time": "2024-08-13T04:01:57.190466",
     "exception": false,
     "start_time": "2024-08-13T04:01:57.131864",
     "status": "completed"
    },
    "tags": []
   },
   "outputs": [],
   "source": [
    "df=pd.read_csv(\"/Users/wasim/Desktop/Projects/Walmart Store Performance/Walmart Store Data.csv\")"
   ]
  },
  {
   "cell_type": "code",
   "execution_count": 6,
   "id": "b0872f70",
   "metadata": {
    "execution": {
     "iopub.execute_input": "2024-08-13T04:01:57.212727Z",
     "iopub.status.busy": "2024-08-13T04:01:57.212317Z",
     "iopub.status.idle": "2024-08-13T04:01:57.246691Z",
     "shell.execute_reply": "2024-08-13T04:01:57.245374Z"
    },
    "papermill": {
     "duration": 0.048546,
     "end_time": "2024-08-13T04:01:57.249355",
     "exception": false,
     "start_time": "2024-08-13T04:01:57.200809",
     "status": "completed"
    },
    "tags": []
   },
   "outputs": [
    {
     "name": "stdout",
     "output_type": "stream",
     "text": [
      "<class 'pandas.core.frame.DataFrame'>\n",
      "RangeIndex: 6435 entries, 0 to 6434\n",
      "Data columns (total 8 columns):\n",
      " #   Column        Non-Null Count  Dtype  \n",
      "---  ------        --------------  -----  \n",
      " 0   Store         6435 non-null   int64  \n",
      " 1   Date          6435 non-null   object \n",
      " 2   Weekly_Sales  6435 non-null   float64\n",
      " 3   Holiday_Flag  6435 non-null   int64  \n",
      " 4   Temperature   6435 non-null   float64\n",
      " 5   Fuel_Price    6435 non-null   float64\n",
      " 6   CPI           6435 non-null   float64\n",
      " 7   Unemployment  6435 non-null   float64\n",
      "dtypes: float64(5), int64(2), object(1)\n",
      "memory usage: 402.3+ KB\n"
     ]
    }
   ],
   "source": [
    "df.info()"
   ]
  },
  {
   "cell_type": "code",
   "execution_count": 7,
   "id": "c3849d88",
   "metadata": {
    "execution": {
     "iopub.execute_input": "2024-08-13T04:01:57.272463Z",
     "iopub.status.busy": "2024-08-13T04:01:57.272097Z",
     "iopub.status.idle": "2024-08-13T04:01:57.295139Z",
     "shell.execute_reply": "2024-08-13T04:01:57.293961Z"
    },
    "papermill": {
     "duration": 0.037494,
     "end_time": "2024-08-13T04:01:57.297642",
     "exception": false,
     "start_time": "2024-08-13T04:01:57.260148",
     "status": "completed"
    },
    "tags": []
   },
   "outputs": [
    {
     "data": {
      "text/html": [
       "<div>\n",
       "<style scoped>\n",
       "    .dataframe tbody tr th:only-of-type {\n",
       "        vertical-align: middle;\n",
       "    }\n",
       "\n",
       "    .dataframe tbody tr th {\n",
       "        vertical-align: top;\n",
       "    }\n",
       "\n",
       "    .dataframe thead th {\n",
       "        text-align: right;\n",
       "    }\n",
       "</style>\n",
       "<table border=\"1\" class=\"dataframe\">\n",
       "  <thead>\n",
       "    <tr style=\"text-align: right;\">\n",
       "      <th></th>\n",
       "      <th>Store</th>\n",
       "      <th>Date</th>\n",
       "      <th>Weekly_Sales</th>\n",
       "      <th>Holiday_Flag</th>\n",
       "      <th>Temperature</th>\n",
       "      <th>Fuel_Price</th>\n",
       "      <th>CPI</th>\n",
       "      <th>Unemployment</th>\n",
       "    </tr>\n",
       "  </thead>\n",
       "  <tbody>\n",
       "    <tr>\n",
       "      <th>0</th>\n",
       "      <td>1</td>\n",
       "      <td>05-02-2010</td>\n",
       "      <td>1643690.90</td>\n",
       "      <td>0</td>\n",
       "      <td>42.31</td>\n",
       "      <td>2.572</td>\n",
       "      <td>211.096358</td>\n",
       "      <td>8.106</td>\n",
       "    </tr>\n",
       "    <tr>\n",
       "      <th>1</th>\n",
       "      <td>1</td>\n",
       "      <td>12-02-2010</td>\n",
       "      <td>1641957.44</td>\n",
       "      <td>1</td>\n",
       "      <td>38.51</td>\n",
       "      <td>2.548</td>\n",
       "      <td>211.242170</td>\n",
       "      <td>8.106</td>\n",
       "    </tr>\n",
       "    <tr>\n",
       "      <th>2</th>\n",
       "      <td>1</td>\n",
       "      <td>19-02-2010</td>\n",
       "      <td>1611968.17</td>\n",
       "      <td>0</td>\n",
       "      <td>39.93</td>\n",
       "      <td>2.514</td>\n",
       "      <td>211.289143</td>\n",
       "      <td>8.106</td>\n",
       "    </tr>\n",
       "    <tr>\n",
       "      <th>3</th>\n",
       "      <td>1</td>\n",
       "      <td>26-02-2010</td>\n",
       "      <td>1409727.59</td>\n",
       "      <td>0</td>\n",
       "      <td>46.63</td>\n",
       "      <td>2.561</td>\n",
       "      <td>211.319643</td>\n",
       "      <td>8.106</td>\n",
       "    </tr>\n",
       "    <tr>\n",
       "      <th>4</th>\n",
       "      <td>1</td>\n",
       "      <td>05-03-2010</td>\n",
       "      <td>1554806.68</td>\n",
       "      <td>0</td>\n",
       "      <td>46.50</td>\n",
       "      <td>2.625</td>\n",
       "      <td>211.350143</td>\n",
       "      <td>8.106</td>\n",
       "    </tr>\n",
       "  </tbody>\n",
       "</table>\n",
       "</div>"
      ],
      "text/plain": [
       "   Store        Date  Weekly_Sales  Holiday_Flag  Temperature  Fuel_Price  \\\n",
       "0      1  05-02-2010    1643690.90             0        42.31       2.572   \n",
       "1      1  12-02-2010    1641957.44             1        38.51       2.548   \n",
       "2      1  19-02-2010    1611968.17             0        39.93       2.514   \n",
       "3      1  26-02-2010    1409727.59             0        46.63       2.561   \n",
       "4      1  05-03-2010    1554806.68             0        46.50       2.625   \n",
       "\n",
       "          CPI  Unemployment  \n",
       "0  211.096358         8.106  \n",
       "1  211.242170         8.106  \n",
       "2  211.289143         8.106  \n",
       "3  211.319643         8.106  \n",
       "4  211.350143         8.106  "
      ]
     },
     "execution_count": 7,
     "metadata": {},
     "output_type": "execute_result"
    }
   ],
   "source": [
    "df.head()"
   ]
  },
  {
   "cell_type": "code",
   "execution_count": 8,
   "id": "b3459f2d",
   "metadata": {
    "execution": {
     "iopub.execute_input": "2024-08-13T04:01:57.320590Z",
     "iopub.status.busy": "2024-08-13T04:01:57.320222Z",
     "iopub.status.idle": "2024-08-13T04:01:57.333592Z",
     "shell.execute_reply": "2024-08-13T04:01:57.332537Z"
    },
    "papermill": {
     "duration": 0.02786,
     "end_time": "2024-08-13T04:01:57.336173",
     "exception": false,
     "start_time": "2024-08-13T04:01:57.308313",
     "status": "completed"
    },
    "tags": []
   },
   "outputs": [],
   "source": [
    "# Convert 'Date' to datetime format\n",
    "df['Date'] = pd.to_datetime(df['Date'],format='%d-%m-%Y')"
   ]
  },
  {
   "cell_type": "code",
   "execution_count": 9,
   "id": "fdda10c7",
   "metadata": {
    "execution": {
     "iopub.execute_input": "2024-08-13T04:01:57.358854Z",
     "iopub.status.busy": "2024-08-13T04:01:57.358416Z",
     "iopub.status.idle": "2024-08-13T04:01:57.371220Z",
     "shell.execute_reply": "2024-08-13T04:01:57.369927Z"
    },
    "papermill": {
     "duration": 0.027066,
     "end_time": "2024-08-13T04:01:57.373823",
     "exception": false,
     "start_time": "2024-08-13T04:01:57.346757",
     "status": "completed"
    },
    "tags": []
   },
   "outputs": [
    {
     "name": "stdout",
     "output_type": "stream",
     "text": [
      "<class 'pandas.core.frame.DataFrame'>\n",
      "RangeIndex: 6435 entries, 0 to 6434\n",
      "Data columns (total 8 columns):\n",
      " #   Column        Non-Null Count  Dtype         \n",
      "---  ------        --------------  -----         \n",
      " 0   Store         6435 non-null   int64         \n",
      " 1   Date          6435 non-null   datetime64[ns]\n",
      " 2   Weekly_Sales  6435 non-null   float64       \n",
      " 3   Holiday_Flag  6435 non-null   int64         \n",
      " 4   Temperature   6435 non-null   float64       \n",
      " 5   Fuel_Price    6435 non-null   float64       \n",
      " 6   CPI           6435 non-null   float64       \n",
      " 7   Unemployment  6435 non-null   float64       \n",
      "dtypes: datetime64[ns](1), float64(5), int64(2)\n",
      "memory usage: 402.3 KB\n"
     ]
    }
   ],
   "source": [
    "df.info()"
   ]
  },
  {
   "cell_type": "code",
   "execution_count": 10,
   "id": "1dfb3b10",
   "metadata": {
    "execution": {
     "iopub.execute_input": "2024-08-13T04:01:57.397186Z",
     "iopub.status.busy": "2024-08-13T04:01:57.396782Z",
     "iopub.status.idle": "2024-08-13T04:01:57.404702Z",
     "shell.execute_reply": "2024-08-13T04:01:57.403506Z"
    },
    "papermill": {
     "duration": 0.022306,
     "end_time": "2024-08-13T04:01:57.407313",
     "exception": false,
     "start_time": "2024-08-13T04:01:57.385007",
     "status": "completed"
    },
    "tags": []
   },
   "outputs": [
    {
     "name": "stdout",
     "output_type": "stream",
     "text": [
      "Store           0\n",
      "Date            0\n",
      "Weekly_Sales    0\n",
      "Holiday_Flag    0\n",
      "Temperature     0\n",
      "Fuel_Price      0\n",
      "CPI             0\n",
      "Unemployment    0\n",
      "dtype: int64\n"
     ]
    }
   ],
   "source": [
    "print(df.isnull().sum())"
   ]
  },
  {
   "cell_type": "code",
   "execution_count": 11,
   "id": "2ea02268",
   "metadata": {
    "execution": {
     "iopub.execute_input": "2024-08-13T04:01:57.431946Z",
     "iopub.status.busy": "2024-08-13T04:01:57.430990Z",
     "iopub.status.idle": "2024-08-13T04:01:57.471885Z",
     "shell.execute_reply": "2024-08-13T04:01:57.470723Z"
    },
    "papermill": {
     "duration": 0.055406,
     "end_time": "2024-08-13T04:01:57.474452",
     "exception": false,
     "start_time": "2024-08-13T04:01:57.419046",
     "status": "completed"
    },
    "tags": []
   },
   "outputs": [
    {
     "data": {
      "text/html": [
       "<div>\n",
       "<style scoped>\n",
       "    .dataframe tbody tr th:only-of-type {\n",
       "        vertical-align: middle;\n",
       "    }\n",
       "\n",
       "    .dataframe tbody tr th {\n",
       "        vertical-align: top;\n",
       "    }\n",
       "\n",
       "    .dataframe thead th {\n",
       "        text-align: right;\n",
       "    }\n",
       "</style>\n",
       "<table border=\"1\" class=\"dataframe\">\n",
       "  <thead>\n",
       "    <tr style=\"text-align: right;\">\n",
       "      <th></th>\n",
       "      <th>Store</th>\n",
       "      <th>Date</th>\n",
       "      <th>Weekly_Sales</th>\n",
       "      <th>Holiday_Flag</th>\n",
       "      <th>Temperature</th>\n",
       "      <th>Fuel_Price</th>\n",
       "      <th>CPI</th>\n",
       "      <th>Unemployment</th>\n",
       "    </tr>\n",
       "  </thead>\n",
       "  <tbody>\n",
       "    <tr>\n",
       "      <th>count</th>\n",
       "      <td>6435.000000</td>\n",
       "      <td>6435</td>\n",
       "      <td>6.435000e+03</td>\n",
       "      <td>6435.000000</td>\n",
       "      <td>6435.000000</td>\n",
       "      <td>6435.000000</td>\n",
       "      <td>6435.000000</td>\n",
       "      <td>6435.000000</td>\n",
       "    </tr>\n",
       "    <tr>\n",
       "      <th>mean</th>\n",
       "      <td>23.000000</td>\n",
       "      <td>2011-06-17 00:00:00</td>\n",
       "      <td>1.046965e+06</td>\n",
       "      <td>0.069930</td>\n",
       "      <td>60.663782</td>\n",
       "      <td>3.358607</td>\n",
       "      <td>171.578394</td>\n",
       "      <td>7.999151</td>\n",
       "    </tr>\n",
       "    <tr>\n",
       "      <th>min</th>\n",
       "      <td>1.000000</td>\n",
       "      <td>2010-02-05 00:00:00</td>\n",
       "      <td>2.099862e+05</td>\n",
       "      <td>0.000000</td>\n",
       "      <td>-2.060000</td>\n",
       "      <td>2.472000</td>\n",
       "      <td>126.064000</td>\n",
       "      <td>3.879000</td>\n",
       "    </tr>\n",
       "    <tr>\n",
       "      <th>25%</th>\n",
       "      <td>12.000000</td>\n",
       "      <td>2010-10-08 00:00:00</td>\n",
       "      <td>5.533501e+05</td>\n",
       "      <td>0.000000</td>\n",
       "      <td>47.460000</td>\n",
       "      <td>2.933000</td>\n",
       "      <td>131.735000</td>\n",
       "      <td>6.891000</td>\n",
       "    </tr>\n",
       "    <tr>\n",
       "      <th>50%</th>\n",
       "      <td>23.000000</td>\n",
       "      <td>2011-06-17 00:00:00</td>\n",
       "      <td>9.607460e+05</td>\n",
       "      <td>0.000000</td>\n",
       "      <td>62.670000</td>\n",
       "      <td>3.445000</td>\n",
       "      <td>182.616521</td>\n",
       "      <td>7.874000</td>\n",
       "    </tr>\n",
       "    <tr>\n",
       "      <th>75%</th>\n",
       "      <td>34.000000</td>\n",
       "      <td>2012-02-24 00:00:00</td>\n",
       "      <td>1.420159e+06</td>\n",
       "      <td>0.000000</td>\n",
       "      <td>74.940000</td>\n",
       "      <td>3.735000</td>\n",
       "      <td>212.743293</td>\n",
       "      <td>8.622000</td>\n",
       "    </tr>\n",
       "    <tr>\n",
       "      <th>max</th>\n",
       "      <td>45.000000</td>\n",
       "      <td>2012-10-26 00:00:00</td>\n",
       "      <td>3.818686e+06</td>\n",
       "      <td>1.000000</td>\n",
       "      <td>100.140000</td>\n",
       "      <td>4.468000</td>\n",
       "      <td>227.232807</td>\n",
       "      <td>14.313000</td>\n",
       "    </tr>\n",
       "    <tr>\n",
       "      <th>std</th>\n",
       "      <td>12.988182</td>\n",
       "      <td>NaN</td>\n",
       "      <td>5.643666e+05</td>\n",
       "      <td>0.255049</td>\n",
       "      <td>18.444933</td>\n",
       "      <td>0.459020</td>\n",
       "      <td>39.356712</td>\n",
       "      <td>1.875885</td>\n",
       "    </tr>\n",
       "  </tbody>\n",
       "</table>\n",
       "</div>"
      ],
      "text/plain": [
       "             Store                 Date  Weekly_Sales  Holiday_Flag  \\\n",
       "count  6435.000000                 6435  6.435000e+03   6435.000000   \n",
       "mean     23.000000  2011-06-17 00:00:00  1.046965e+06      0.069930   \n",
       "min       1.000000  2010-02-05 00:00:00  2.099862e+05      0.000000   \n",
       "25%      12.000000  2010-10-08 00:00:00  5.533501e+05      0.000000   \n",
       "50%      23.000000  2011-06-17 00:00:00  9.607460e+05      0.000000   \n",
       "75%      34.000000  2012-02-24 00:00:00  1.420159e+06      0.000000   \n",
       "max      45.000000  2012-10-26 00:00:00  3.818686e+06      1.000000   \n",
       "std      12.988182                  NaN  5.643666e+05      0.255049   \n",
       "\n",
       "       Temperature   Fuel_Price          CPI  Unemployment  \n",
       "count  6435.000000  6435.000000  6435.000000   6435.000000  \n",
       "mean     60.663782     3.358607   171.578394      7.999151  \n",
       "min      -2.060000     2.472000   126.064000      3.879000  \n",
       "25%      47.460000     2.933000   131.735000      6.891000  \n",
       "50%      62.670000     3.445000   182.616521      7.874000  \n",
       "75%      74.940000     3.735000   212.743293      8.622000  \n",
       "max     100.140000     4.468000   227.232807     14.313000  \n",
       "std      18.444933     0.459020    39.356712      1.875885  "
      ]
     },
     "execution_count": 11,
     "metadata": {},
     "output_type": "execute_result"
    }
   ],
   "source": [
    "df.describe()"
   ]
  },
  {
   "cell_type": "code",
   "execution_count": 12,
   "id": "eadfffe2",
   "metadata": {
    "execution": {
     "iopub.execute_input": "2024-08-13T04:01:57.498759Z",
     "iopub.status.busy": "2024-08-13T04:01:57.497886Z",
     "iopub.status.idle": "2024-08-13T04:01:57.607709Z",
     "shell.execute_reply": "2024-08-13T04:01:57.606495Z"
    },
    "papermill": {
     "duration": 0.124784,
     "end_time": "2024-08-13T04:01:57.610170",
     "exception": false,
     "start_time": "2024-08-13T04:01:57.485386",
     "status": "completed"
    },
    "tags": []
   },
   "outputs": [
    {
     "name": "stdout",
     "output_type": "stream",
     "text": [
      "994 days 00:00:00\n"
     ]
    }
   ],
   "source": [
    "time_range=max(df['Date'])-min(df['Date'])\n",
    "print(time_range)"
   ]
  },
  {
   "cell_type": "markdown",
   "id": "3d072b5a",
   "metadata": {
    "papermill": {
     "duration": 0.01069,
     "end_time": "2024-08-13T04:01:57.631983",
     "exception": false,
     "start_time": "2024-08-13T04:01:57.621293",
     "status": "completed"
    },
    "tags": []
   },
   "source": [
    "# **Claculation of Key Performance Indicators (KPI)**"
   ]
  },
  {
   "cell_type": "markdown",
   "id": "b6d43dbc",
   "metadata": {
    "papermill": {
     "duration": 0.010961,
     "end_time": "2024-08-13T04:01:57.654773",
     "exception": false,
     "start_time": "2024-08-13T04:01:57.643812",
     "status": "completed"
    },
    "tags": []
   },
   "source": [
    "1. Total Sales per store"
   ]
  },
  {
   "cell_type": "code",
   "execution_count": 13,
   "id": "bb300ab9",
   "metadata": {
    "execution": {
     "iopub.execute_input": "2024-08-13T04:01:57.679291Z",
     "iopub.status.busy": "2024-08-13T04:01:57.678491Z",
     "iopub.status.idle": "2024-08-13T04:01:57.690964Z",
     "shell.execute_reply": "2024-08-13T04:01:57.689736Z"
    },
    "papermill": {
     "duration": 0.028118,
     "end_time": "2024-08-13T04:01:57.694060",
     "exception": false,
     "start_time": "2024-08-13T04:01:57.665942",
     "status": "completed"
    },
    "tags": []
   },
   "outputs": [],
   "source": [
    "total_sale_per_store= df.groupby('Store')['Weekly_Sales'].sum().reset_index()\n",
    "total_sale_per_store.columns=['Store','Total_Sales']"
   ]
  },
  {
   "cell_type": "code",
   "execution_count": 14,
   "id": "7ac650dc",
   "metadata": {
    "execution": {
     "iopub.execute_input": "2024-08-13T04:01:57.718558Z",
     "iopub.status.busy": "2024-08-13T04:01:57.718164Z",
     "iopub.status.idle": "2024-08-13T04:01:57.729346Z",
     "shell.execute_reply": "2024-08-13T04:01:57.728200Z"
    },
    "papermill": {
     "duration": 0.026398,
     "end_time": "2024-08-13T04:01:57.731992",
     "exception": false,
     "start_time": "2024-08-13T04:01:57.705594",
     "status": "completed"
    },
    "tags": []
   },
   "outputs": [
    {
     "data": {
      "text/html": [
       "<div>\n",
       "<style scoped>\n",
       "    .dataframe tbody tr th:only-of-type {\n",
       "        vertical-align: middle;\n",
       "    }\n",
       "\n",
       "    .dataframe tbody tr th {\n",
       "        vertical-align: top;\n",
       "    }\n",
       "\n",
       "    .dataframe thead th {\n",
       "        text-align: right;\n",
       "    }\n",
       "</style>\n",
       "<table border=\"1\" class=\"dataframe\">\n",
       "  <thead>\n",
       "    <tr style=\"text-align: right;\">\n",
       "      <th></th>\n",
       "      <th>Store</th>\n",
       "      <th>Total_Sales</th>\n",
       "    </tr>\n",
       "  </thead>\n",
       "  <tbody>\n",
       "    <tr>\n",
       "      <th>0</th>\n",
       "      <td>1</td>\n",
       "      <td>222402808.85</td>\n",
       "    </tr>\n",
       "    <tr>\n",
       "      <th>1</th>\n",
       "      <td>2</td>\n",
       "      <td>275382440.98</td>\n",
       "    </tr>\n",
       "    <tr>\n",
       "      <th>2</th>\n",
       "      <td>3</td>\n",
       "      <td>57586735.07</td>\n",
       "    </tr>\n",
       "    <tr>\n",
       "      <th>3</th>\n",
       "      <td>4</td>\n",
       "      <td>299543953.38</td>\n",
       "    </tr>\n",
       "    <tr>\n",
       "      <th>4</th>\n",
       "      <td>5</td>\n",
       "      <td>45475688.90</td>\n",
       "    </tr>\n",
       "  </tbody>\n",
       "</table>\n",
       "</div>"
      ],
      "text/plain": [
       "   Store  Total_Sales\n",
       "0      1 222402808.85\n",
       "1      2 275382440.98\n",
       "2      3  57586735.07\n",
       "3      4 299543953.38\n",
       "4      5  45475688.90"
      ]
     },
     "execution_count": 14,
     "metadata": {},
     "output_type": "execute_result"
    }
   ],
   "source": [
    "pd.set_option('display.float_format', '{:.2f}'.format)\n",
    "total_sale_per_store.head()"
   ]
  },
  {
   "cell_type": "markdown",
   "id": "ab481aa4",
   "metadata": {
    "papermill": {
     "duration": 0.011059,
     "end_time": "2024-08-13T04:01:57.754621",
     "exception": false,
     "start_time": "2024-08-13T04:01:57.743562",
     "status": "completed"
    },
    "tags": []
   },
   "source": [
    "2. Average weekly sale per store"
   ]
  },
  {
   "cell_type": "code",
   "execution_count": 15,
   "id": "6173b4fc",
   "metadata": {
    "execution": {
     "iopub.execute_input": "2024-08-13T04:01:57.779256Z",
     "iopub.status.busy": "2024-08-13T04:01:57.778856Z",
     "iopub.status.idle": "2024-08-13T04:01:57.788819Z",
     "shell.execute_reply": "2024-08-13T04:01:57.787615Z"
    },
    "papermill": {
     "duration": 0.025357,
     "end_time": "2024-08-13T04:01:57.791411",
     "exception": false,
     "start_time": "2024-08-13T04:01:57.766054",
     "status": "completed"
    },
    "tags": []
   },
   "outputs": [],
   "source": [
    "avg_weekly_sale_per_store=df.groupby('Store')['Weekly_Sales'].mean().reset_index()\n",
    "avg_weekly_sale_per_store.columns=['Store', 'Average_Weekly_Sales']"
   ]
  },
  {
   "cell_type": "code",
   "execution_count": 16,
   "id": "38727c90",
   "metadata": {
    "execution": {
     "iopub.execute_input": "2024-08-13T04:01:57.816852Z",
     "iopub.status.busy": "2024-08-13T04:01:57.816407Z",
     "iopub.status.idle": "2024-08-13T04:01:57.827010Z",
     "shell.execute_reply": "2024-08-13T04:01:57.825872Z"
    },
    "papermill": {
     "duration": 0.025971,
     "end_time": "2024-08-13T04:01:57.829462",
     "exception": false,
     "start_time": "2024-08-13T04:01:57.803491",
     "status": "completed"
    },
    "tags": []
   },
   "outputs": [
    {
     "data": {
      "text/html": [
       "<div>\n",
       "<style scoped>\n",
       "    .dataframe tbody tr th:only-of-type {\n",
       "        vertical-align: middle;\n",
       "    }\n",
       "\n",
       "    .dataframe tbody tr th {\n",
       "        vertical-align: top;\n",
       "    }\n",
       "\n",
       "    .dataframe thead th {\n",
       "        text-align: right;\n",
       "    }\n",
       "</style>\n",
       "<table border=\"1\" class=\"dataframe\">\n",
       "  <thead>\n",
       "    <tr style=\"text-align: right;\">\n",
       "      <th></th>\n",
       "      <th>Store</th>\n",
       "      <th>Average_Weekly_Sales</th>\n",
       "    </tr>\n",
       "  </thead>\n",
       "  <tbody>\n",
       "    <tr>\n",
       "      <th>0</th>\n",
       "      <td>1</td>\n",
       "      <td>1555264.40</td>\n",
       "    </tr>\n",
       "    <tr>\n",
       "      <th>1</th>\n",
       "      <td>2</td>\n",
       "      <td>1925751.34</td>\n",
       "    </tr>\n",
       "    <tr>\n",
       "      <th>2</th>\n",
       "      <td>3</td>\n",
       "      <td>402704.44</td>\n",
       "    </tr>\n",
       "    <tr>\n",
       "      <th>3</th>\n",
       "      <td>4</td>\n",
       "      <td>2094712.96</td>\n",
       "    </tr>\n",
       "    <tr>\n",
       "      <th>4</th>\n",
       "      <td>5</td>\n",
       "      <td>318011.81</td>\n",
       "    </tr>\n",
       "  </tbody>\n",
       "</table>\n",
       "</div>"
      ],
      "text/plain": [
       "   Store  Average_Weekly_Sales\n",
       "0      1            1555264.40\n",
       "1      2            1925751.34\n",
       "2      3             402704.44\n",
       "3      4            2094712.96\n",
       "4      5             318011.81"
      ]
     },
     "execution_count": 16,
     "metadata": {},
     "output_type": "execute_result"
    }
   ],
   "source": [
    "avg_weekly_sale_per_store.head()"
   ]
  },
  {
   "cell_type": "markdown",
   "id": "06b410f2",
   "metadata": {
    "papermill": {
     "duration": 0.011693,
     "end_time": "2024-08-13T04:01:57.853070",
     "exception": false,
     "start_time": "2024-08-13T04:01:57.841377",
     "status": "completed"
    },
    "tags": []
   },
   "source": [
    "3. Sales Variability per Store"
   ]
  },
  {
   "cell_type": "code",
   "execution_count": 17,
   "id": "42b76a33",
   "metadata": {
    "execution": {
     "iopub.execute_input": "2024-08-13T04:01:57.878179Z",
     "iopub.status.busy": "2024-08-13T04:01:57.877769Z",
     "iopub.status.idle": "2024-08-13T04:01:57.887250Z",
     "shell.execute_reply": "2024-08-13T04:01:57.886200Z"
    },
    "papermill": {
     "duration": 0.0251,
     "end_time": "2024-08-13T04:01:57.889937",
     "exception": false,
     "start_time": "2024-08-13T04:01:57.864837",
     "status": "completed"
    },
    "tags": []
   },
   "outputs": [],
   "source": [
    "sales_variability_per_store=df.groupby('Store')['Weekly_Sales'].std().reset_index()\n",
    "sales_variability_per_store.columns=['Store', 'Sales_Variability']"
   ]
  },
  {
   "cell_type": "code",
   "execution_count": 18,
   "id": "7827862b",
   "metadata": {
    "execution": {
     "iopub.execute_input": "2024-08-13T04:01:57.915323Z",
     "iopub.status.busy": "2024-08-13T04:01:57.914490Z",
     "iopub.status.idle": "2024-08-13T04:01:57.924999Z",
     "shell.execute_reply": "2024-08-13T04:01:57.923739Z"
    },
    "papermill": {
     "duration": 0.02594,
     "end_time": "2024-08-13T04:01:57.927647",
     "exception": false,
     "start_time": "2024-08-13T04:01:57.901707",
     "status": "completed"
    },
    "tags": []
   },
   "outputs": [
    {
     "data": {
      "text/html": [
       "<div>\n",
       "<style scoped>\n",
       "    .dataframe tbody tr th:only-of-type {\n",
       "        vertical-align: middle;\n",
       "    }\n",
       "\n",
       "    .dataframe tbody tr th {\n",
       "        vertical-align: top;\n",
       "    }\n",
       "\n",
       "    .dataframe thead th {\n",
       "        text-align: right;\n",
       "    }\n",
       "</style>\n",
       "<table border=\"1\" class=\"dataframe\">\n",
       "  <thead>\n",
       "    <tr style=\"text-align: right;\">\n",
       "      <th></th>\n",
       "      <th>Store</th>\n",
       "      <th>Sales_Variability</th>\n",
       "    </tr>\n",
       "  </thead>\n",
       "  <tbody>\n",
       "    <tr>\n",
       "      <th>0</th>\n",
       "      <td>1</td>\n",
       "      <td>155980.77</td>\n",
       "    </tr>\n",
       "    <tr>\n",
       "      <th>1</th>\n",
       "      <td>2</td>\n",
       "      <td>237683.69</td>\n",
       "    </tr>\n",
       "    <tr>\n",
       "      <th>2</th>\n",
       "      <td>3</td>\n",
       "      <td>46319.63</td>\n",
       "    </tr>\n",
       "    <tr>\n",
       "      <th>3</th>\n",
       "      <td>4</td>\n",
       "      <td>266201.44</td>\n",
       "    </tr>\n",
       "    <tr>\n",
       "      <th>4</th>\n",
       "      <td>5</td>\n",
       "      <td>37737.97</td>\n",
       "    </tr>\n",
       "  </tbody>\n",
       "</table>\n",
       "</div>"
      ],
      "text/plain": [
       "   Store  Sales_Variability\n",
       "0      1          155980.77\n",
       "1      2          237683.69\n",
       "2      3           46319.63\n",
       "3      4          266201.44\n",
       "4      5           37737.97"
      ]
     },
     "execution_count": 18,
     "metadata": {},
     "output_type": "execute_result"
    }
   ],
   "source": [
    "sales_variability_per_store.head()"
   ]
  },
  {
   "cell_type": "markdown",
   "id": "c6a07fc9",
   "metadata": {
    "papermill": {
     "duration": 0.011571,
     "end_time": "2024-08-13T04:01:57.951112",
     "exception": false,
     "start_time": "2024-08-13T04:01:57.939541",
     "status": "completed"
    },
    "tags": []
   },
   "source": [
    "4. Sales per Store During Holidays"
   ]
  },
  {
   "cell_type": "code",
   "execution_count": 19,
   "id": "29252fcc",
   "metadata": {
    "execution": {
     "iopub.execute_input": "2024-08-13T04:01:57.979116Z",
     "iopub.status.busy": "2024-08-13T04:01:57.978691Z",
     "iopub.status.idle": "2024-08-13T04:01:57.995206Z",
     "shell.execute_reply": "2024-08-13T04:01:57.994074Z"
    },
    "papermill": {
     "duration": 0.03483,
     "end_time": "2024-08-13T04:01:57.998080",
     "exception": false,
     "start_time": "2024-08-13T04:01:57.963250",
     "status": "completed"
    },
    "tags": []
   },
   "outputs": [],
   "source": [
    "avg_sales_holiday=df[df['Holiday_Flag']==1].groupby('Store')['Weekly_Sales'].mean().reset_index()\n",
    "avg_sales_holiday.columns = ['Store', 'Avg_Sales_Holiday']\n",
    "\n",
    "avg_sales_non_holiday = df[df['Holiday_Flag'] == 0].groupby('Store')['Weekly_Sales'].mean().reset_index()\n",
    "avg_sales_non_holiday.columns = ['Store', 'Avg_Sales_Non_Holiday']"
   ]
  },
  {
   "cell_type": "code",
   "execution_count": 20,
   "id": "92c9fd94",
   "metadata": {
    "execution": {
     "iopub.execute_input": "2024-08-13T04:01:58.023518Z",
     "iopub.status.busy": "2024-08-13T04:01:58.023125Z",
     "iopub.status.idle": "2024-08-13T04:01:58.033985Z",
     "shell.execute_reply": "2024-08-13T04:01:58.032920Z"
    },
    "papermill": {
     "duration": 0.02711,
     "end_time": "2024-08-13T04:01:58.037034",
     "exception": false,
     "start_time": "2024-08-13T04:01:58.009924",
     "status": "completed"
    },
    "tags": []
   },
   "outputs": [
    {
     "data": {
      "text/html": [
       "<div>\n",
       "<style scoped>\n",
       "    .dataframe tbody tr th:only-of-type {\n",
       "        vertical-align: middle;\n",
       "    }\n",
       "\n",
       "    .dataframe tbody tr th {\n",
       "        vertical-align: top;\n",
       "    }\n",
       "\n",
       "    .dataframe thead th {\n",
       "        text-align: right;\n",
       "    }\n",
       "</style>\n",
       "<table border=\"1\" class=\"dataframe\">\n",
       "  <thead>\n",
       "    <tr style=\"text-align: right;\">\n",
       "      <th></th>\n",
       "      <th>Store</th>\n",
       "      <th>Avg_Sales_Holiday</th>\n",
       "    </tr>\n",
       "  </thead>\n",
       "  <tbody>\n",
       "    <tr>\n",
       "      <th>0</th>\n",
       "      <td>1</td>\n",
       "      <td>1665747.66</td>\n",
       "    </tr>\n",
       "    <tr>\n",
       "      <th>1</th>\n",
       "      <td>2</td>\n",
       "      <td>2079266.90</td>\n",
       "    </tr>\n",
       "    <tr>\n",
       "      <th>2</th>\n",
       "      <td>3</td>\n",
       "      <td>437811.05</td>\n",
       "    </tr>\n",
       "    <tr>\n",
       "      <th>3</th>\n",
       "      <td>4</td>\n",
       "      <td>2243102.62</td>\n",
       "    </tr>\n",
       "    <tr>\n",
       "      <th>4</th>\n",
       "      <td>5</td>\n",
       "      <td>359501.61</td>\n",
       "    </tr>\n",
       "  </tbody>\n",
       "</table>\n",
       "</div>"
      ],
      "text/plain": [
       "   Store  Avg_Sales_Holiday\n",
       "0      1         1665747.66\n",
       "1      2         2079266.90\n",
       "2      3          437811.05\n",
       "3      4         2243102.62\n",
       "4      5          359501.61"
      ]
     },
     "execution_count": 20,
     "metadata": {},
     "output_type": "execute_result"
    }
   ],
   "source": [
    "avg_sales_holiday.head()"
   ]
  },
  {
   "cell_type": "code",
   "execution_count": 21,
   "id": "f0c717d4",
   "metadata": {
    "execution": {
     "iopub.execute_input": "2024-08-13T04:01:58.063679Z",
     "iopub.status.busy": "2024-08-13T04:01:58.063255Z",
     "iopub.status.idle": "2024-08-13T04:01:58.074131Z",
     "shell.execute_reply": "2024-08-13T04:01:58.073094Z"
    },
    "papermill": {
     "duration": 0.026849,
     "end_time": "2024-08-13T04:01:58.076566",
     "exception": false,
     "start_time": "2024-08-13T04:01:58.049717",
     "status": "completed"
    },
    "tags": []
   },
   "outputs": [
    {
     "data": {
      "text/html": [
       "<div>\n",
       "<style scoped>\n",
       "    .dataframe tbody tr th:only-of-type {\n",
       "        vertical-align: middle;\n",
       "    }\n",
       "\n",
       "    .dataframe tbody tr th {\n",
       "        vertical-align: top;\n",
       "    }\n",
       "\n",
       "    .dataframe thead th {\n",
       "        text-align: right;\n",
       "    }\n",
       "</style>\n",
       "<table border=\"1\" class=\"dataframe\">\n",
       "  <thead>\n",
       "    <tr style=\"text-align: right;\">\n",
       "      <th></th>\n",
       "      <th>Store</th>\n",
       "      <th>Avg_Sales_Non_Holiday</th>\n",
       "    </tr>\n",
       "  </thead>\n",
       "  <tbody>\n",
       "    <tr>\n",
       "      <th>0</th>\n",
       "      <td>1</td>\n",
       "      <td>1546957.39</td>\n",
       "    </tr>\n",
       "    <tr>\n",
       "      <th>1</th>\n",
       "      <td>2</td>\n",
       "      <td>1914208.81</td>\n",
       "    </tr>\n",
       "    <tr>\n",
       "      <th>2</th>\n",
       "      <td>3</td>\n",
       "      <td>400064.85</td>\n",
       "    </tr>\n",
       "    <tr>\n",
       "      <th>3</th>\n",
       "      <td>4</td>\n",
       "      <td>2083555.84</td>\n",
       "    </tr>\n",
       "    <tr>\n",
       "      <th>4</th>\n",
       "      <td>5</td>\n",
       "      <td>314892.28</td>\n",
       "    </tr>\n",
       "  </tbody>\n",
       "</table>\n",
       "</div>"
      ],
      "text/plain": [
       "   Store  Avg_Sales_Non_Holiday\n",
       "0      1             1546957.39\n",
       "1      2             1914208.81\n",
       "2      3              400064.85\n",
       "3      4             2083555.84\n",
       "4      5              314892.28"
      ]
     },
     "execution_count": 21,
     "metadata": {},
     "output_type": "execute_result"
    }
   ],
   "source": [
    "avg_sales_non_holiday.head()"
   ]
  },
  {
   "cell_type": "markdown",
   "id": "0c46d704",
   "metadata": {
    "papermill": {
     "duration": 0.012386,
     "end_time": "2024-08-13T04:01:58.101471",
     "exception": false,
     "start_time": "2024-08-13T04:01:58.089085",
     "status": "completed"
    },
    "tags": []
   },
   "source": [
    "# **Visualize Store Performance**"
   ]
  },
  {
   "cell_type": "code",
   "execution_count": 22,
   "id": "1892e305",
   "metadata": {
    "execution": {
     "iopub.execute_input": "2024-08-13T04:01:58.128228Z",
     "iopub.status.busy": "2024-08-13T04:01:58.127801Z",
     "iopub.status.idle": "2024-08-13T04:01:58.800199Z",
     "shell.execute_reply": "2024-08-13T04:01:58.799089Z"
    },
    "papermill": {
     "duration": 0.689521,
     "end_time": "2024-08-13T04:01:58.803257",
     "exception": false,
     "start_time": "2024-08-13T04:01:58.113736",
     "status": "completed"
    },
    "tags": []
   },
   "outputs": [
    {
     "data": {
      "image/png": "[encoded data removed]",
      "text/plain": [
       "<Figure size 1200x600 with 1 Axes>"
      ]
     },
     "metadata": {},
     "output_type": "display_data"
    }
   ],
   "source": [
    "plt.figure(figsize=(12, 6))\n",
    "sns.barplot(x='Store', y='Total_Sales', data=total_sale_per_store)\n",
    "plt.xlabel('Store')\n",
    "plt.ylabel('Total Sales')\n",
    "plt.title('Total Sales per Store')\n",
    "plt.show()\n"
   ]
  },
  {
   "cell_type": "code",
   "execution_count": 23,
   "id": "bf25cf3f",
   "metadata": {
    "execution": {
     "iopub.execute_input": "2024-08-13T04:01:58.831445Z",
     "iopub.status.busy": "2024-08-13T04:01:58.830476Z",
     "iopub.status.idle": "2024-08-13T04:01:59.491432Z",
     "shell.execute_reply": "2024-08-13T04:01:59.490236Z"
    },
    "papermill": {
     "duration": 0.677938,
     "end_time": "2024-08-13T04:01:59.494227",
     "exception": false,
     "start_time": "2024-08-13T04:01:58.816289",
     "status": "completed"
    },
    "tags": []
   },
   "outputs": [
    {
     "data": {
      "image/png": "[encoded data removed]",
      "text/plain": [
       "<Figure size 1200x600 with 1 Axes>"
      ]
     },
     "metadata": {},
     "output_type": "display_data"
    }
   ],
   "source": [
    "plt.figure(figsize=(12, 6))\n",
    "sns.barplot(x='Store', y='Average_Weekly_Sales', data=avg_weekly_sale_per_store)\n",
    "plt.xlabel('Store')\n",
    "plt.ylabel('Average Weekly Sales')\n",
    "plt.title('Average Weekly Sales per Store')\n",
    "plt.show()\n"
   ]
  },
  {
   "cell_type": "code",
   "execution_count": 24,
   "id": "a9b2837b",
   "metadata": {
    "execution": {
     "iopub.execute_input": "2024-08-13T04:01:59.524572Z",
     "iopub.status.busy": "2024-08-13T04:01:59.524189Z",
     "iopub.status.idle": "2024-08-13T04:02:00.189448Z",
     "shell.execute_reply": "2024-08-13T04:02:00.187500Z"
    },
    "papermill": {
     "duration": 0.68744,
     "end_time": "2024-08-13T04:02:00.195844",
     "exception": false,
     "start_time": "2024-08-13T04:01:59.508404",
     "status": "completed"
    },
    "tags": []
   },
   "outputs": [
    {
     "data": {
      "image/png": "[encoded data removed]",
      "text/plain": [
       "<Figure size 1200x600 with 1 Axes>"
      ]
     },
     "metadata": {},
     "output_type": "display_data"
    }
   ],
   "source": [
    "plt.figure(figsize=(12, 6))\n",
    "sns.barplot(x='Store', y='Sales_Variability', data=sales_variability_per_store)\n",
    "plt.xlabel('Store')\n",
    "plt.ylabel('Sales Variability')\n",
    "plt.title('Sales Variability per Store')\n",
    "plt.show()\n"
   ]
  },
  {
   "cell_type": "code",
   "execution_count": 25,
   "id": "237052c2",
   "metadata": {
    "execution": {
     "iopub.execute_input": "2024-08-13T04:02:00.240810Z",
     "iopub.status.busy": "2024-08-13T04:02:00.240328Z",
     "iopub.status.idle": "2024-08-13T04:02:01.019183Z",
     "shell.execute_reply": "2024-08-13T04:02:01.017917Z"
    },
    "papermill": {
     "duration": 0.798225,
     "end_time": "2024-08-13T04:02:01.021879",
     "exception": false,
     "start_time": "2024-08-13T04:02:00.223654",
     "status": "completed"
    },
    "tags": []
   },
   "outputs": [
    {
     "data": {
      "text/plain": [
       "<Figure size 1200x600 with 0 Axes>"
      ]
     },
     "metadata": {},
     "output_type": "display_data"
    },
    {
     "data": {
      "image/png": "[encoded data removed]",
      "text/plain": [
       "<Figure size 1200x600 with 1 Axes>"
      ]
     },
     "metadata": {},
     "output_type": "display_data"
    }
   ],
   "source": [
    "# Merge holiday and non-holiday sales data\n",
    "holiday_sales = pd.merge(avg_sales_holiday, avg_sales_non_holiday, on='Store')\n",
    "\n",
    "plt.figure(figsize=(12, 6))\n",
    "holiday_sales.set_index('Store').plot(kind='bar', figsize=(12, 6))\n",
    "plt.xlabel('Store')\n",
    "plt.ylabel('Sales')\n",
    "plt.title('Average Sales During Holidays vs Non-Holidays')\n",
    "plt.show()"
   ]
  },
  {
   "cell_type": "markdown",
   "id": "48a73e47",
   "metadata": {
    "papermill": {
     "duration": 0.014414,
     "end_time": "2024-08-13T04:02:01.051203",
     "exception": false,
     "start_time": "2024-08-13T04:02:01.036789",
     "status": "completed"
    },
    "tags": []
   },
   "source": [
    "# **Factors Influencing Performance**"
   ]
  },
  {
   "cell_type": "markdown",
   "id": "5b330b0d",
   "metadata": {
    "papermill": {
     "duration": 0.014593,
     "end_time": "2024-08-13T04:02:01.081368",
     "exception": false,
     "start_time": "2024-08-13T04:02:01.066775",
     "status": "completed"
    },
    "tags": []
   },
   "source": [
    " 1. Correlation Analysis"
   ]
  },
  {
   "cell_type": "code",
   "execution_count": 26,
   "id": "698f3bba",
   "metadata": {
    "execution": {
     "iopub.execute_input": "2024-08-13T04:02:01.113479Z",
     "iopub.status.busy": "2024-08-13T04:02:01.113103Z",
     "iopub.status.idle": "2024-08-13T04:02:01.756608Z",
     "shell.execute_reply": "2024-08-13T04:02:01.755366Z"
    },
    "papermill": {
     "duration": 0.662783,
     "end_time": "2024-08-13T04:02:01.759497",
     "exception": false,
     "start_time": "2024-08-13T04:02:01.096714",
     "status": "completed"
    },
    "tags": []
   },
   "outputs": [
    {
     "data": {
      "image/png": "[encoded data removed]",
      "text/plain": [
       "<Figure size 1000x800 with 2 Axes>"
      ]
     },
     "metadata": {},
     "output_type": "display_data"
    }
   ],
   "source": [
    "# Calculate correlations between sales and other variables\n",
    "store_performance = df.groupby('Store').agg({\n",
    "    'Weekly_Sales': 'mean',\n",
    "    'Temperature': 'mean',\n",
    "    'Fuel_Price': 'mean',\n",
    "    'CPI': 'mean',\n",
    "    'Unemployment': 'mean'\n",
    "}).reset_index()\n",
    "\n",
    "correlations = store_performance.corr()\n",
    "\n",
    "plt.figure(figsize=(10, 8))\n",
    "sns.heatmap(correlations, annot=True, cmap='coolwarm', fmt='.2f')\n",
    "plt.title('Correlation Matrix')\n",
    "plt.show()\n"
   ]
  }
 ],
 "metadata": {
  "kaggle": {
   "accelerator": "none",
   "dataSources": [
    {
     "datasetId": 3186183,
     "sourceId": 5526698,
     "sourceType": "datasetVersion"
    }
   ],
   "dockerImageVersionId": 30746,
   "isGpuEnabled": false,
   "isInternetEnabled": true,
   "language": "python",
   "sourceType": "notebook"
  },
  "kernelspec": {
   "display_name": "Python 3",
   "language": "python",
   "name": "python3"
  },
  "language_info": {
   "codemirror_mode": {
    "name": "ipython",
    "version": 3
   },
   "file_extension": ".py",
   "mimetype": "text/x-python",
   "name": "python",
   "nbconvert_exporter": "python",
   "pygments_lexer": "ipython3",
   "version": "3.11.5"
  },
  "papermill": {
   "default_parameters": {},
   "duration": 11.365387,
   "end_time": "2024-08-13T04:02:03.087560",
   "environment_variables": {},
   "exception": null,
   "input_path": "__notebook__.ipynb",
   "output_path": "__notebook__.ipynb",
   "parameters": {},
   "start_time": "2024-08-13T04:01:51.722173",
   "version": "2.5.0"
  }
 },
 "nbformat": 4,
 "nbformat_minor": 5
}
